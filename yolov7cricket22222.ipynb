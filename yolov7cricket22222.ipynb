{
  "nbformat": 4,
  "nbformat_minor": 0,
  "metadata": {
    "colab": {
      "provenance": [],
      "gpuType": "T4",
      "authorship_tag": "ABX9TyN/IlRyXjj8B91mlTihZVCx",
      "include_colab_link": true
    },
    "kernelspec": {
      "name": "python3",
      "display_name": "Python 3"
    },
    "language_info": {
      "name": "python"
    },
    "accelerator": "GPU"
  },
  "cells": [
    {
      "cell_type": "markdown",
      "metadata": {
        "id": "view-in-github",
        "colab_type": "text"
      },
      "source": [
        "<a href=\"https://colab.research.google.com/github/code555man/cricket-yolo/blob/main/yolov7cricket22222.ipynb\" target=\"_parent\"><img src=\"https://colab.research.google.com/assets/colab-badge.svg\" alt=\"Open In Colab\"/></a>"
      ]
    },
    {
      "cell_type": "code",
      "execution_count": null,
      "metadata": {
        "colab": {
          "base_uri": "https://localhost:8080/"
        },
        "id": "cSMiRVYnXlLn",
        "outputId": "2feafdc8-b97c-4634-ec24-f78a352a77d0"
      },
      "outputs": [
        {
          "output_type": "execute_result",
          "data": {
            "text/plain": [
              "2"
            ]
          },
          "metadata": {},
          "execution_count": 1
        }
      ],
      "source": [
        "1+1"
      ]
    },
    {
      "cell_type": "code",
      "source": [
        "!git clone https://github.com/code555man/cricket-yolo"
      ],
      "metadata": {
        "id": "LRjOG8KvXmQt",
        "colab": {
          "base_uri": "https://localhost:8080/"
        },
        "outputId": "f3b715a7-8f5d-41a8-b809-0c98871f3915"
      },
      "execution_count": 2,
      "outputs": [
        {
          "output_type": "stream",
          "name": "stdout",
          "text": [
            "Cloning into 'cricket-yolo'...\n",
            "remote: Enumerating objects: 686, done.\u001b[K\n",
            "remote: Counting objects: 100% (385/385), done.\u001b[K\n",
            "remote: Compressing objects: 100% (373/373), done.\u001b[K\n",
            "remote: Total 686 (delta 15), reused 374 (delta 12), pack-reused 301 (from 1)\u001b[K\n",
            "Receiving objects: 100% (686/686), 72.98 MiB | 22.06 MiB/s, done.\n",
            "Resolving deltas: 100% (41/41), done.\n"
          ]
        }
      ]
    },
    {
      "cell_type": "code",
      "source": [
        "%cd cricket-yolo\n"
      ],
      "metadata": {
        "colab": {
          "base_uri": "https://localhost:8080/"
        },
        "id": "qSHArBIDX0Cm",
        "outputId": "96bb0da1-ff6f-4f2b-a7e5-8a63dc6f279e"
      },
      "execution_count": 1,
      "outputs": [
        {
          "output_type": "stream",
          "name": "stdout",
          "text": [
            "/content/cricket-yolo\n"
          ]
        }
      ]
    },
    {
      "cell_type": "code",
      "source": [
        "%cd cricket-detect"
      ],
      "metadata": {
        "colab": {
          "base_uri": "https://localhost:8080/"
        },
        "id": "xCewoLEc9v03",
        "outputId": "01430c47-ada8-4b64-bdba-468682a4c24c"
      },
      "execution_count": 2,
      "outputs": [
        {
          "output_type": "stream",
          "name": "stdout",
          "text": [
            "/content/cricket-yolo/cricket-detect\n"
          ]
        }
      ]
    },
    {
      "cell_type": "code",
      "source": [
        "!pip install -r requirements.txt"
      ],
      "metadata": {
        "id": "fwqNLTF6X2nF"
      },
      "execution_count": null,
      "outputs": []
    },
    {
      "cell_type": "code",
      "source": [
        "!python train.py --batch 16 --epochs 20 --data /content/cricket-yolo/cricket-train/data.yaml --weights 'yolov7-tiny.pt' --device 0"
      ],
      "metadata": {
        "id": "c5BziwqRYG2F"
      },
      "execution_count": null,
      "outputs": []
    },
    {
      "cell_type": "code",
      "source": [
        "!python detect.py --weights runs/train/exp/weights/best.pt --conf 0.1 --source /content/cricket-yolo/cricket-test/mp4"
      ],
      "metadata": {
        "id": "xsLC8Szg5Vzt"
      },
      "execution_count": null,
      "outputs": []
    }
  ]
}